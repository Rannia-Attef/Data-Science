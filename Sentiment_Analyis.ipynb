{
  "cells": [
    {
      "cell_type": "code",
      "execution_count": null,
      "metadata": {
        "id": "eAh3LjNq3eCN"
      },
      "outputs": [],
      "source": [
        "import os"
      ]
    },
    {
      "cell_type": "code",
      "execution_count": null,
      "metadata": {
        "colab": {
          "base_uri": "https://localhost:8080/"
        },
        "id": "Cp1l6xzS3jOn",
        "outputId": "b299d7bb-0bf1-4b47-8cb7-3bd7b95ac66c"
      },
      "outputs": [
        {
          "output_type": "stream",
          "name": "stdout",
          "text": [
            "imdb-reviews-dataset.zip: Skipping, found more recently modified local copy (use --force to force download)\n"
          ]
        }
      ],
      "source": [
        "os.environ['KAGGLE_USERNAME']=\"raninaattef\"\n",
        "os.environ['KAGGLE_KEY']=\"a269bf45e22b6bed87e181047763d366\"\n",
        "!kaggle datasets download -d virenmohanlal/imdb-reviews-dataset #copy api"
      ]
    },
    {
      "cell_type": "code",
      "execution_count": null,
      "metadata": {
        "colab": {
          "base_uri": "https://localhost:8080/"
        },
        "id": "j2BHvDgB4-Ru",
        "outputId": "91a68c0c-c739-470b-fa4a-80c74c7e6eb0"
      },
      "outputs": [
        {
          "output_type": "stream",
          "name": "stdout",
          "text": [
            "imdb_reviews.csv  imdb-reviews-dataset.zip  sample_data\n"
          ]
        }
      ],
      "source": [
        "!ls #bshwfha"
      ]
    },
    {
      "cell_type": "code",
      "execution_count": null,
      "metadata": {
        "colab": {
          "base_uri": "https://localhost:8080/"
        },
        "id": "yPciuXQs5twt",
        "outputId": "59a966f0-5e7b-440e-86cd-e7e0d703297d"
      },
      "outputs": [
        {
          "output_type": "stream",
          "name": "stdout",
          "text": [
            "Archive:  imdb-reviews-dataset.zip\n",
            "replace imdb_reviews.csv? [y]es, [n]o, [A]ll, [N]one, [r]ename: All\n",
            "  inflating: imdb_reviews.csv        \n"
          ]
        }
      ],
      "source": [
        "!unzip imdb-reviews-dataset  #unzip b3d l /"
      ]
    },
    {
      "cell_type": "code",
      "execution_count": null,
      "metadata": {
        "id": "pweiVuStvPlQ"
      },
      "outputs": [],
      "source": [
        "#used libraries\n",
        "import pandas as pd\n",
        "import numpy as np\n",
        "import matplotlib.pyplot as plt\n",
        "import seaborn as sns"
      ]
    },
    {
      "cell_type": "code",
      "source": [
        "import nltk\n",
        "nltk.download('punkt')\n",
        "nltk.download('stopwords')\n",
        "nltk.download('wordnet')\n",
        "nltk.download('omw-1.4')"
      ],
      "metadata": {
        "colab": {
          "base_uri": "https://localhost:8080/"
        },
        "id": "ONDCWCnueapD",
        "outputId": "3d1da919-5668-4e46-91a8-c8d29b50caff"
      },
      "execution_count": null,
      "outputs": [
        {
          "output_type": "stream",
          "name": "stderr",
          "text": [
            "[nltk_data] Downloading package punkt to /root/nltk_data...\n",
            "[nltk_data]   Package punkt is already up-to-date!\n",
            "[nltk_data] Downloading package stopwords to /root/nltk_data...\n",
            "[nltk_data]   Package stopwords is already up-to-date!\n",
            "[nltk_data] Downloading package wordnet to /root/nltk_data...\n",
            "[nltk_data]   Package wordnet is already up-to-date!\n",
            "[nltk_data] Downloading package omw-1.4 to /root/nltk_data...\n",
            "[nltk_data]   Package omw-1.4 is already up-to-date!\n"
          ]
        },
        {
          "output_type": "execute_result",
          "data": {
            "text/plain": [
              "True"
            ]
          },
          "metadata": {},
          "execution_count": 6
        }
      ]
    },
    {
      "cell_type": "code",
      "source": [
        "from collections import defaultdict\n",
        "import math\n",
        "\n",
        "from nltk.corpus import stopwords\n",
        "from nltk.stem import WordNetLemmatizer\n",
        "from nltk.tokenize import RegexpTokenizer"
      ],
      "metadata": {
        "id": "_htgdOE_emS1"
      },
      "execution_count": null,
      "outputs": []
    },
    {
      "cell_type": "code",
      "execution_count": null,
      "metadata": {
        "id": "CvStt3CAvdfy"
      },
      "outputs": [],
      "source": [
        "#read the data\n",
        "reviews=pd.read_csv('/content/imdb_reviews.csv')\n"
      ]
    },
    {
      "cell_type": "code",
      "execution_count": null,
      "metadata": {
        "colab": {
          "base_uri": "https://localhost:8080/",
          "height": 423
        },
        "id": "w7QaCdVtNu5p",
        "outputId": "dee6636b-c414-4beb-b7b5-e6cdb4b7e900"
      },
      "outputs": [
        {
          "output_type": "execute_result",
          "data": {
            "text/plain": [
              "                                                 Reviews Sentiment\n",
              "0      <START this film was just brilliant casting lo...  positive\n",
              "1      <START big hair big boobs bad music and a gian...  negative\n",
              "2      <START this has to be one of the worst films o...  negative\n",
              "3      <START the <UNK> <UNK> at storytelling the tra...  positive\n",
              "4      <START worst mistake of my life br br i picked...  negative\n",
              "...                                                  ...       ...\n",
              "24995  <START this is a racist movie but worthy of st...  positive\n",
              "24996  <START bela lugosi plays a doctor who will do ...  negative\n",
              "24997  <START in a far away galaxy is a planet called...  negative\n",
              "24998  <START six degrees had me hooked i looked forw...  positive\n",
              "24999  <START as a big fan of the original film it's ...  negative\n",
              "\n",
              "[25000 rows x 2 columns]"
            ],
            "text/html": [
              "\n",
              "  <div id=\"df-216bf38b-77b8-4bf1-840b-7770b1792fc9\">\n",
              "    <div class=\"colab-df-container\">\n",
              "      <div>\n",
              "<style scoped>\n",
              "    .dataframe tbody tr th:only-of-type {\n",
              "        vertical-align: middle;\n",
              "    }\n",
              "\n",
              "    .dataframe tbody tr th {\n",
              "        vertical-align: top;\n",
              "    }\n",
              "\n",
              "    .dataframe thead th {\n",
              "        text-align: right;\n",
              "    }\n",
              "</style>\n",
              "<table border=\"1\" class=\"dataframe\">\n",
              "  <thead>\n",
              "    <tr style=\"text-align: right;\">\n",
              "      <th></th>\n",
              "      <th>Reviews</th>\n",
              "      <th>Sentiment</th>\n",
              "    </tr>\n",
              "  </thead>\n",
              "  <tbody>\n",
              "    <tr>\n",
              "      <th>0</th>\n",
              "      <td>&lt;START this film was just brilliant casting lo...</td>\n",
              "      <td>positive</td>\n",
              "    </tr>\n",
              "    <tr>\n",
              "      <th>1</th>\n",
              "      <td>&lt;START big hair big boobs bad music and a gian...</td>\n",
              "      <td>negative</td>\n",
              "    </tr>\n",
              "    <tr>\n",
              "      <th>2</th>\n",
              "      <td>&lt;START this has to be one of the worst films o...</td>\n",
              "      <td>negative</td>\n",
              "    </tr>\n",
              "    <tr>\n",
              "      <th>3</th>\n",
              "      <td>&lt;START the &lt;UNK&gt; &lt;UNK&gt; at storytelling the tra...</td>\n",
              "      <td>positive</td>\n",
              "    </tr>\n",
              "    <tr>\n",
              "      <th>4</th>\n",
              "      <td>&lt;START worst mistake of my life br br i picked...</td>\n",
              "      <td>negative</td>\n",
              "    </tr>\n",
              "    <tr>\n",
              "      <th>...</th>\n",
              "      <td>...</td>\n",
              "      <td>...</td>\n",
              "    </tr>\n",
              "    <tr>\n",
              "      <th>24995</th>\n",
              "      <td>&lt;START this is a racist movie but worthy of st...</td>\n",
              "      <td>positive</td>\n",
              "    </tr>\n",
              "    <tr>\n",
              "      <th>24996</th>\n",
              "      <td>&lt;START bela lugosi plays a doctor who will do ...</td>\n",
              "      <td>negative</td>\n",
              "    </tr>\n",
              "    <tr>\n",
              "      <th>24997</th>\n",
              "      <td>&lt;START in a far away galaxy is a planet called...</td>\n",
              "      <td>negative</td>\n",
              "    </tr>\n",
              "    <tr>\n",
              "      <th>24998</th>\n",
              "      <td>&lt;START six degrees had me hooked i looked forw...</td>\n",
              "      <td>positive</td>\n",
              "    </tr>\n",
              "    <tr>\n",
              "      <th>24999</th>\n",
              "      <td>&lt;START as a big fan of the original film it's ...</td>\n",
              "      <td>negative</td>\n",
              "    </tr>\n",
              "  </tbody>\n",
              "</table>\n",
              "<p>25000 rows × 2 columns</p>\n",
              "</div>\n",
              "      <button class=\"colab-df-convert\" onclick=\"convertToInteractive('df-216bf38b-77b8-4bf1-840b-7770b1792fc9')\"\n",
              "              title=\"Convert this dataframe to an interactive table.\"\n",
              "              style=\"display:none;\">\n",
              "        \n",
              "  <svg xmlns=\"http://www.w3.org/2000/svg\" height=\"24px\"viewBox=\"0 0 24 24\"\n",
              "       width=\"24px\">\n",
              "    <path d=\"M0 0h24v24H0V0z\" fill=\"none\"/>\n",
              "    <path d=\"M18.56 5.44l.94 2.06.94-2.06 2.06-.94-2.06-.94-.94-2.06-.94 2.06-2.06.94zm-11 1L8.5 8.5l.94-2.06 2.06-.94-2.06-.94L8.5 2.5l-.94 2.06-2.06.94zm10 10l.94 2.06.94-2.06 2.06-.94-2.06-.94-.94-2.06-.94 2.06-2.06.94z\"/><path d=\"M17.41 7.96l-1.37-1.37c-.4-.4-.92-.59-1.43-.59-.52 0-1.04.2-1.43.59L10.3 9.45l-7.72 7.72c-.78.78-.78 2.05 0 2.83L4 21.41c.39.39.9.59 1.41.59.51 0 1.02-.2 1.41-.59l7.78-7.78 2.81-2.81c.8-.78.8-2.07 0-2.86zM5.41 20L4 18.59l7.72-7.72 1.47 1.35L5.41 20z\"/>\n",
              "  </svg>\n",
              "      </button>\n",
              "      \n",
              "  <style>\n",
              "    .colab-df-container {\n",
              "      display:flex;\n",
              "      flex-wrap:wrap;\n",
              "      gap: 12px;\n",
              "    }\n",
              "\n",
              "    .colab-df-convert {\n",
              "      background-color: #E8F0FE;\n",
              "      border: none;\n",
              "      border-radius: 50%;\n",
              "      cursor: pointer;\n",
              "      display: none;\n",
              "      fill: #1967D2;\n",
              "      height: 32px;\n",
              "      padding: 0 0 0 0;\n",
              "      width: 32px;\n",
              "    }\n",
              "\n",
              "    .colab-df-convert:hover {\n",
              "      background-color: #E2EBFA;\n",
              "      box-shadow: 0px 1px 2px rgba(60, 64, 67, 0.3), 0px 1px 3px 1px rgba(60, 64, 67, 0.15);\n",
              "      fill: #174EA6;\n",
              "    }\n",
              "\n",
              "    [theme=dark] .colab-df-convert {\n",
              "      background-color: #3B4455;\n",
              "      fill: #D2E3FC;\n",
              "    }\n",
              "\n",
              "    [theme=dark] .colab-df-convert:hover {\n",
              "      background-color: #434B5C;\n",
              "      box-shadow: 0px 1px 3px 1px rgba(0, 0, 0, 0.15);\n",
              "      filter: drop-shadow(0px 1px 2px rgba(0, 0, 0, 0.3));\n",
              "      fill: #FFFFFF;\n",
              "    }\n",
              "  </style>\n",
              "\n",
              "      <script>\n",
              "        const buttonEl =\n",
              "          document.querySelector('#df-216bf38b-77b8-4bf1-840b-7770b1792fc9 button.colab-df-convert');\n",
              "        buttonEl.style.display =\n",
              "          google.colab.kernel.accessAllowed ? 'block' : 'none';\n",
              "\n",
              "        async function convertToInteractive(key) {\n",
              "          const element = document.querySelector('#df-216bf38b-77b8-4bf1-840b-7770b1792fc9');\n",
              "          const dataTable =\n",
              "            await google.colab.kernel.invokeFunction('convertToInteractive',\n",
              "                                                     [key], {});\n",
              "          if (!dataTable) return;\n",
              "\n",
              "          const docLinkHtml = 'Like what you see? Visit the ' +\n",
              "            '<a target=\"_blank\" href=https://colab.research.google.com/notebooks/data_table.ipynb>data table notebook</a>'\n",
              "            + ' to learn more about interactive tables.';\n",
              "          element.innerHTML = '';\n",
              "          dataTable['output_type'] = 'display_data';\n",
              "          await google.colab.output.renderOutput(dataTable, element);\n",
              "          const docLink = document.createElement('div');\n",
              "          docLink.innerHTML = docLinkHtml;\n",
              "          element.appendChild(docLink);\n",
              "        }\n",
              "      </script>\n",
              "    </div>\n",
              "  </div>\n",
              "  "
            ]
          },
          "metadata": {},
          "execution_count": 9
        }
      ],
      "source": [
        "#show the data\n",
        "reviews\n",
        "#we have 25000 reviews "
      ]
    },
    {
      "cell_type": "code",
      "source": [
        "#some data structures\n",
        "reviews.info()"
      ],
      "metadata": {
        "colab": {
          "base_uri": "https://localhost:8080/"
        },
        "id": "uRLrgwTXkm3L",
        "outputId": "aa0b91a7-9f01-47df-c305-095f5e35a1ff"
      },
      "execution_count": null,
      "outputs": [
        {
          "output_type": "stream",
          "name": "stdout",
          "text": [
            "<class 'pandas.core.frame.DataFrame'>\n",
            "RangeIndex: 25000 entries, 0 to 24999\n",
            "Data columns (total 2 columns):\n",
            " #   Column     Non-Null Count  Dtype \n",
            "---  ------     --------------  ----- \n",
            " 0   Reviews    25000 non-null  object\n",
            " 1   Sentiment  25000 non-null  object\n",
            "dtypes: object(2)\n",
            "memory usage: 390.8+ KB\n"
          ]
        }
      ]
    },
    {
      "cell_type": "code",
      "source": [
        "#check the nulls\n",
        "reviews.isnull().sum()"
      ],
      "metadata": {
        "id": "zQc9G2FT1Umn",
        "colab": {
          "base_uri": "https://localhost:8080/"
        },
        "outputId": "50a39da1-7914-4428-db87-8b8ba710f739"
      },
      "execution_count": null,
      "outputs": [
        {
          "output_type": "execute_result",
          "data": {
            "text/plain": [
              "Reviews      0\n",
              "Sentiment    0\n",
              "dtype: int64"
            ]
          },
          "metadata": {},
          "execution_count": 11
        }
      ]
    },
    {
      "cell_type": "code",
      "source": [
        "unique_sentiment=reviews['Sentiment'].unique()\n",
        "unique_sentiment.sort()"
      ],
      "metadata": {
        "id": "X7jMTdf42srg"
      },
      "execution_count": null,
      "outputs": []
    },
    {
      "cell_type": "code",
      "source": [
        "unique_sentiment   #check the inconsistent of sentiment"
      ],
      "metadata": {
        "colab": {
          "base_uri": "https://localhost:8080/"
        },
        "id": "5wWaFa32mL98",
        "outputId": "bb8ef596-d234-44cc-f3b1-2f64c6912863"
      },
      "execution_count": null,
      "outputs": [
        {
          "output_type": "execute_result",
          "data": {
            "text/plain": [
              "array(['negative', 'positive'], dtype=object)"
            ]
          },
          "metadata": {},
          "execution_count": 13
        }
      ]
    },
    {
      "cell_type": "code",
      "source": [
        "#a function to convert both lower and white spaces\n",
        "def convert_lower_spaces(df,column):\n",
        "    df[column] =df[column].str.lower()\n",
        "    df[column] =df[column].str.strip()"
      ],
      "metadata": {
        "id": "3HproNZ9mpdQ"
      },
      "execution_count": null,
      "outputs": []
    },
    {
      "cell_type": "code",
      "source": [
        "convert_lower_spaces(reviews,'Reviews')"
      ],
      "metadata": {
        "id": "N1Akir4Wmx7q"
      },
      "execution_count": null,
      "outputs": []
    },
    {
      "cell_type": "code",
      "source": [
        "\n",
        "tokenizer = RegexpTokenizer(r'\\w+')\n",
        "STOP_WORDS = stopwords.words('english')\n",
        "lemmatizer = WordNetLemmatizer()\n",
        "word_counts = defaultdict(lambda: [0, 0]) # returns [0, 0] by default if the key does not exist\n",
        "sentiment = list(reviews['Sentiment'])"
      ],
      "metadata": {
        "id": "fSF1uArDnFCC"
      },
      "execution_count": null,
      "outputs": []
    },
    {
      "cell_type": "code",
      "source": [
        "#want to know the number of positive and negative in sentiment to start calculating probability\n",
        "total_positive_reviews = 0\n",
        "total_negative_reviews = 0\n",
        "\n",
        "total_positive_words = 0\n",
        "total_negative_words = 0\n",
        "\n",
        "for index, review in enumerate(list(reviews['Reviews'])):\n",
        "    if sentiment[index] == 'positive':\n",
        "        total_positive_reviews += 1\n",
        "    else:\n",
        "        total_negative_reviews += 1\n",
        "    \n",
        "    for token in tokenizer.tokenize(review):\n",
        "        token = token.lower()\n",
        "        token = lemmatizer.lemmatize(token)\n",
        "        if token not in STOP_WORDS:\n",
        "            if sentiment[index] == 'positive':\n",
        "                word_counts[token][1] += 1\n",
        "                total_positive_words += 1\n",
        "            else:\n",
        "                word_counts[token][0] += 1\n",
        "                total_negative_words += 1"
      ],
      "metadata": {
        "id": "Q3pJUSeFjT-F"
      },
      "execution_count": null,
      "outputs": []
    },
    {
      "cell_type": "code",
      "source": [
        "word_counts = sorted(word_counts.items(),  key=lambda x : x[1][0] + x[1][1], reverse=True)[:5500]"
      ],
      "metadata": {
        "id": "1dxgPmqvnbh_"
      },
      "execution_count": null,
      "outputs": []
    },
    {
      "cell_type": "markdown",
      "metadata": {
        "id": "U7Et8lZl8H73"
      },
      "source": []
    },
    {
      "cell_type": "markdown",
      "metadata": {
        "id": "jwLPln0m8E0p"
      },
      "source": []
    },
    {
      "cell_type": "code",
      "source": [
        "word_counts = defaultdict(lambda: [0, 0], word_counts)"
      ],
      "metadata": {
        "id": "OyEIxGDHnubb"
      },
      "execution_count": null,
      "outputs": []
    },
    {
      "cell_type": "code",
      "source": [
        "#a function for calculating P(word|positive) and P(word|negative)\n",
        "\n",
        "def calculate_word_probability(word, sentiment):\n",
        "    if sentiment == 'positive':\n",
        "        return math.log((word_counts[word][1] + 1) / (total_positive_words + 5500))\n",
        "    else:\n",
        "        return math.log((word_counts[word][0] + 1) / (total_negative_words + 5500))"
      ],
      "metadata": {
        "id": "Z0KrO0asnwTw"
      },
      "execution_count": null,
      "outputs": []
    },
    {
      "cell_type": "code",
      "source": [
        "#a function for calculating each review  probability\n",
        "\n",
        "def calculate_review_probability(review, sentiment):\n",
        "    if sentiment == 'positive':\n",
        "        probability = math.log(total_positive_reviews / len(reviews))\n",
        "    else:\n",
        "        probability = math.log(total_negative_reviews / len(reviews))\n",
        "    \n",
        "    for token in tokenizer.tokenize(review):\n",
        "        token = token.lower()\n",
        "        token = lemmatizer.lemmatize(token)\n",
        "        if token not in STOP_WORDS:\n",
        "            probability += calculate_word_probability(token, sentiment)\n",
        "    return probability"
      ],
      "metadata": {
        "id": "HSeYzHeboZZ0"
      },
      "execution_count": null,
      "outputs": []
    },
    {
      "cell_type": "code",
      "source": [
        "def predict(review):\n",
        "    if calculate_review_probability(review, 'positive') > calculate_review_probability(review, 'negative'):\n",
        "        return 'positive'\n",
        "    else:\n",
        "        return 'negative'"
      ],
      "metadata": {
        "id": "5Yh2iEGXplEt"
      },
      "execution_count": null,
      "outputs": []
    },
    {
      "cell_type": "markdown",
      "source": [
        "Testing \n"
      ],
      "metadata": {
        "id": "e4ordRpGpUUw"
      }
    },
    {
      "cell_type": "code",
      "source": [
        "print(predict('This movie was great'))"
      ],
      "metadata": {
        "colab": {
          "base_uri": "https://localhost:8080/"
        },
        "id": "CT9i01SxpW1h",
        "outputId": "455aa339-6850-49b9-ccbb-0448b0fc6242"
      },
      "execution_count": null,
      "outputs": [
        {
          "output_type": "stream",
          "name": "stdout",
          "text": [
            "positive\n"
          ]
        }
      ]
    },
    {
      "cell_type": "code",
      "source": [
        "#test on the entire dataset\n",
        "correct  = 0\n",
        "incorrect = 0\n",
        "sentiments = list(reviews['Sentiment'])\n",
        "for i, text in enumerate(list(reviews['Reviews'])):\n",
        "    if predict(text) == sentiments[i]:\n",
        "        correct += 1\n",
        "    else:\n",
        "        incorrect += 1"
      ],
      "metadata": {
        "id": "c18TkKRFppge"
      },
      "execution_count": null,
      "outputs": []
    },
    {
      "cell_type": "code",
      "source": [
        "Accuracy=(correct/(correct+incorrect))*100"
      ],
      "metadata": {
        "id": "lTUYDPiEqnCH"
      },
      "execution_count": null,
      "outputs": []
    },
    {
      "cell_type": "code",
      "source": [
        "print('the accuracy of the Naive_Bayes Classifier is  {}'.format(Accuracy))"
      ],
      "metadata": {
        "colab": {
          "base_uri": "https://localhost:8080/"
        },
        "id": "Tg8A92oKq7Vh",
        "outputId": "f7334071-8119-4282-e46e-2ebb5bc1b0cb"
      },
      "execution_count": null,
      "outputs": [
        {
          "output_type": "stream",
          "name": "stdout",
          "text": [
            "the accuracy of the Naive_Bayes Classifier is  85.63199999999999\n"
          ]
        }
      ]
    }
  ],
  "metadata": {
    "colab": {
      "provenance": []
    },
    "kernelspec": {
      "display_name": "Python 3",
      "name": "python3"
    },
    "language_info": {
      "name": "python"
    }
  },
  "nbformat": 4,
  "nbformat_minor": 0
}